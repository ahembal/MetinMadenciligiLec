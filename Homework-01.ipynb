{
  "nbformat": 4,
  "nbformat_minor": 0,
  "metadata": {
    "colab": {
      "name": "Untitled1.ipynb",
      "provenance": [],
      "collapsed_sections": [],
      "authorship_tag": "ABX9TyOcQv+vZ+lvmAQWNfCct94v",
      "include_colab_link": true
    },
    "kernelspec": {
      "name": "python3",
      "display_name": "Python 3"
    }
  },
  "cells": [
    {
      "cell_type": "markdown",
      "metadata": {
        "id": "view-in-github",
        "colab_type": "text"
      },
      "source": [
        "<a href=\"https://colab.research.google.com/github/ahembal/MetinMadenciligiLec/blob/main/Homework-01.ipynb\" target=\"_parent\"><img src=\"https://colab.research.google.com/assets/colab-badge.svg\" alt=\"Open In Colab\"/></a>"
      ]
    },
    {
      "cell_type": "code",
      "metadata": {
        "colab": {
          "base_uri": "https://localhost:8080/"
        },
        "id": "e7ti1A7cacD-",
        "outputId": "7c64a224-4ce6-4839-a280-f2bbf7ba9375"
      },
      "source": [
        "from google.colab import drive\n",
        "drive.mount('/content/drive')"
      ],
      "execution_count": null,
      "outputs": [
        {
          "output_type": "stream",
          "text": [
            "Mounted at /content/drive\n"
          ],
          "name": "stdout"
        }
      ]
    },
    {
      "cell_type": "code",
      "metadata": {
        "colab": {
          "base_uri": "https://localhost:8080/"
        },
        "id": "yD-YC_9uab6B",
        "outputId": "bb8997e8-016b-493d-e50c-6353c3175b5f"
      },
      "source": [
        "ls"
      ],
      "execution_count": null,
      "outputs": [
        {
          "output_type": "stream",
          "text": [
            " Baskaldiran-Insan-Albert-Camus.txt   RNNsStillCool.ipynb   Untitled1.ipynb\n",
            "'Copy of word_embeddings.ipynb'       Untitled0.ipynb\n"
          ],
          "name": "stdout"
        }
      ]
    },
    {
      "cell_type": "code",
      "metadata": {
        "colab": {
          "base_uri": "https://localhost:8080/"
        },
        "id": "5p34hAVT_rtr",
        "outputId": "eb331035-ae57-4b1a-9f53-3a74eae17bee"
      },
      "source": [
        "cd .."
      ],
      "execution_count": null,
      "outputs": [
        {
          "output_type": "stream",
          "text": [
            "/content\n"
          ],
          "name": "stdout"
        }
      ]
    },
    {
      "cell_type": "code",
      "metadata": {
        "colab": {
          "base_uri": "https://localhost:8080/"
        },
        "id": "JRJCcq_2awPd",
        "outputId": "614d6ff8-b8ad-4464-82f9-8d25dd61c8cd"
      },
      "source": [
        "cd drive/MyDrive/Colab Notebooks"
      ],
      "execution_count": null,
      "outputs": [
        {
          "output_type": "stream",
          "text": [
            "/content/drive/MyDrive/Colab Notebooks\n"
          ],
          "name": "stdout"
        }
      ]
    },
    {
      "cell_type": "code",
      "metadata": {
        "id": "ysbyebpMbkyt"
      },
      "source": [
        "text = \"\"\"Hello world this is my notebook, \n",
        "and i am very happy to be here where are you and i miss you too much \n",
        "i want to see you as soon as possible.\"\"\"\n",
        "text2 = \"abcde\"\n",
        "text3 = \"Hello world this is my notebook\""
      ],
      "execution_count": null,
      "outputs": []
    },
    {
      "cell_type": "code",
      "metadata": {
        "id": "RUpqv2yV-CFk"
      },
      "source": [
        "import re\n",
        "import random\n",
        "import math"
      ],
      "execution_count": null,
      "outputs": []
    },
    {
      "cell_type": "code",
      "metadata": {
        "id": "TmW9nvM5-G7r"
      },
      "source": [
        "def tokenize(text):\n",
        "  return re.findall(r\"[\\w]+|[^\\s\\w]\", text)"
      ],
      "execution_count": null,
      "outputs": []
    },
    {
      "cell_type": "code",
      "metadata": {
        "colab": {
          "base_uri": "https://localhost:8080/"
        },
        "id": "86vsyOSb8ni8",
        "outputId": "29a8cedb-0306-4cd1-8411-d291007680bb"
      },
      "source": [
        "lst = [1,2,3,4,5]\n",
        "lst[1:1]"
      ],
      "execution_count": null,
      "outputs": [
        {
          "output_type": "execute_result",
          "data": {
            "text/plain": [
              "[]"
            ]
          },
          "metadata": {
            "tags": []
          },
          "execution_count": 83
        }
      ]
    },
    {
      "cell_type": "code",
      "metadata": {
        "id": "Y-gCpCp0cVhX"
      },
      "source": [
        "def ctokenize(text):\n",
        "  return [i for i in text]\n",
        " "
      ],
      "execution_count": null,
      "outputs": []
    },
    {
      "cell_type": "code",
      "metadata": {
        "id": "DcPSBE2setva",
        "colab": {
          "base_uri": "https://localhost:8080/"
        },
        "outputId": "3c6e399a-6fec-4765-e2d9-ee979aea9f41"
      },
      "source": [
        "ctokenize(text2)"
      ],
      "execution_count": null,
      "outputs": [
        {
          "output_type": "execute_result",
          "data": {
            "text/plain": [
              "['a', 'b', 'c', 'd', 'e']"
            ]
          },
          "metadata": {
            "tags": []
          },
          "execution_count": 21
        }
      ]
    },
    {
      "cell_type": "code",
      "metadata": {
        "id": "-wcSs2AT_z8n"
      },
      "source": [
        "def ngrams(n, text):\n",
        "    ''' Returns the ngrams of the text as tuples where the first element is\n",
        "        the length-n context and the second is the character '''\n",
        "    padded_tokens = []\n",
        "    if type(text) != str:\n",
        "      text = \"\".join(text)\n",
        "    padded_tokens = \"~\"*(n) + text + \".\"\n",
        "    if n == 1:\n",
        "      lst = [((padded_tokens[i-1]), token) for i, token in enumerate(padded_tokens) if i >= n-1]\n",
        "      return  lst[1:]\n",
        "    else:\n",
        "      lst = [((\"\".join(padded_tokens[i-n:i])), token) for i, token in enumerate(padded_tokens) if i >= n-1]\n",
        "      return  lst[1:]\n"
      ],
      "execution_count": null,
      "outputs": []
    },
    {
      "cell_type": "code",
      "metadata": {
        "colab": {
          "base_uri": "https://localhost:8080/"
        },
        "id": "ojQCdXp7fYaa",
        "outputId": "6c8f0695-8bf5-46f6-cf99-b795ec1a519f"
      },
      "source": [
        "ngrams(2,text2)"
      ],
      "execution_count": null,
      "outputs": [
        {
          "output_type": "execute_result",
          "data": {
            "text/plain": [
              "[('~~', 'a'), ('~a', 'b'), ('ab', 'c'), ('bc', 'd'), ('cd', 'e'), ('de', '.')]"
            ]
          },
          "metadata": {
            "tags": []
          },
          "execution_count": 76
        }
      ]
    },
    {
      "cell_type": "code",
      "metadata": {
        "colab": {
          "base_uri": "https://localhost:8080/"
        },
        "id": "SVyhvhwSgQ8T",
        "outputId": "0f7240e7-e269-428b-e606-d3424fec9c40"
      },
      "source": [
        "product = 0\r\n",
        "for context, token in ngrams(2, \"tokeniz\"):\r\n",
        "  print(context,token)\r\n",
        "  print(n.prob(context,token))\r\n",
        "  #product += math.log(n.prob(context, token))\r\n",
        "#product"
      ],
      "execution_count": null,
      "outputs": [
        {
          "output_type": "stream",
          "text": [
            "~~ t\n",
            "0.5\n",
            "~t o\n",
            "1.0\n",
            "to k\n",
            "0.25\n",
            "ok e\n",
            "0.5\n",
            "ke n\n",
            "1.0\n",
            "en i\n",
            "1.0\n",
            "ni z\n",
            "1.0\n",
            "iz .\n",
            "0.0\n"
          ],
          "name": "stdout"
        }
      ]
    },
    {
      "cell_type": "code",
      "metadata": {
        "colab": {
          "base_uri": "https://localhost:8080/"
        },
        "id": "JAharQEhMSHy",
        "outputId": "c4c70d76-eb81-4ede-c16f-5a41a0d39d22"
      },
      "source": [
        "math.log(1)\r\n",
        "math.exp(0)"
      ],
      "execution_count": null,
      "outputs": [
        {
          "output_type": "execute_result",
          "data": {
            "text/plain": [
              "1.0"
            ]
          },
          "metadata": {
            "tags": []
          },
          "execution_count": 315
        }
      ]
    },
    {
      "cell_type": "code",
      "metadata": {
        "id": "sKPH1KRi2y--"
      },
      "source": [
        "n = NgramModel(1,0)"
      ],
      "execution_count": null,
      "outputs": []
    },
    {
      "cell_type": "code",
      "metadata": {
        "id": "LjxQmteQhwIa"
      },
      "source": [
        "n.update('abcd')"
      ],
      "execution_count": null,
      "outputs": []
    },
    {
      "cell_type": "code",
      "metadata": {
        "id": "wIELqgPbh-We"
      },
      "source": [
        "n.update('abab')"
      ],
      "execution_count": null,
      "outputs": []
    },
    {
      "cell_type": "code",
      "metadata": {
        "colab": {
          "base_uri": "https://localhost:8080/"
        },
        "id": "zTa7L1Yhh-UT",
        "outputId": "20765c7a-4630-41f5-8955-2f6b5d6e4f4d"
      },
      "source": [
        "n.perplexity('abcd')"
      ],
      "execution_count": null,
      "outputs": [
        {
          "output_type": "execute_result",
          "data": {
            "text/plain": [
              "0.8027415617602307"
            ]
          },
          "metadata": {
            "tags": []
          },
          "execution_count": 17
        }
      ]
    },
    {
      "cell_type": "code",
      "metadata": {
        "colab": {
          "base_uri": "https://localhost:8080/"
        },
        "id": "2UevWSVXh-R8",
        "outputId": "70e9ed51-2af6-4f19-eb7e-1bb99f509fa6"
      },
      "source": [
        "n.perplexity('abcda')"
      ],
      "execution_count": null,
      "outputs": [
        {
          "output_type": "execute_result",
          "data": {
            "text/plain": [
              "0.8326831776556043"
            ]
          },
          "metadata": {
            "tags": []
          },
          "execution_count": 19
        }
      ]
    },
    {
      "cell_type": "code",
      "metadata": {
        "id": "HfKSqwFch-Pp"
      },
      "source": [
        ""
      ],
      "execution_count": null,
      "outputs": []
    },
    {
      "cell_type": "code",
      "metadata": {
        "id": "x0-Xf2VrkKia"
      },
      "source": [
        "n.update(\"tokenize\")\r\n",
        "n.update(text)"
      ],
      "execution_count": null,
      "outputs": []
    },
    {
      "cell_type": "code",
      "metadata": {
        "colab": {
          "base_uri": "https://localhost:8080/"
        },
        "id": "5aM6IzwNk34d",
        "outputId": "58e8ca05-65dd-42ab-ac78-cf1b1a64813e"
      },
      "source": [
        "n.get_vocab()"
      ],
      "execution_count": null,
      "outputs": [
        {
          "output_type": "execute_result",
          "data": {
            "text/plain": [
              "dict_keys(['~~', '~H', 'He', 'el', 'll', 'lo', 'o ', ' w', 'wo', 'or', 'rl', 'ld', 'd ', ' t', 'th', 'hi', 'is', 's ', ' i', ' m', 'my', 'y ', ' n', 'no', 'ot', 'te', 'eb', 'bo', 'oo', 'ok', 'k,', ', ', ' \\n', '\\na', 'an', 'nd', 'i ', ' a', 'am', 'm ', ' v', 've', 'er', 'ry', ' h', 'ha', 'ap', 'pp', 'py', 'to', ' b', 'be', 'e ', 'he', 're', 'wh', 'ar', ' y', 'yo', 'ou', 'u ', 'mi', 'ss', 'mu', 'uc', 'ch', 'h ', '\\ni', 'wa', 'nt', 't ', ' s', 'se', 'ee', 'as', 'so', 'on', 'n ', ' p', 'po', 'os', 'si', 'ib', 'bl', 'le', 'e.'])"
            ]
          },
          "metadata": {
            "tags": []
          },
          "execution_count": 243
        }
      ]
    },
    {
      "cell_type": "code",
      "metadata": {
        "colab": {
          "base_uri": "https://localhost:8080/"
        },
        "id": "Rb3TCImX8Pxy",
        "outputId": "5fafbc99-f297-4a49-cc7d-344b9a59ee5e"
      },
      "source": [
        "n.perplexity(\"token\")"
      ],
      "execution_count": null,
      "outputs": [
        {
          "output_type": "execute_result",
          "data": {
            "text/plain": [
              "1.5874010519681994"
            ]
          },
          "metadata": {
            "tags": []
          },
          "execution_count": 269
        }
      ]
    },
    {
      "cell_type": "code",
      "metadata": {
        "colab": {
          "base_uri": "https://localhost:8080/"
        },
        "id": "Y4qeT0sx8gxO",
        "outputId": "cce6afd8-2893-4cf6-a94e-7d4034765d7e"
      },
      "source": [
        "n.prob(context, token)"
      ],
      "execution_count": null,
      "outputs": [
        {
          "output_type": "execute_result",
          "data": {
            "text/plain": [
              "2"
            ]
          },
          "metadata": {
            "tags": []
          },
          "execution_count": 247
        }
      ]
    },
    {
      "cell_type": "code",
      "metadata": {
        "colab": {
          "base_uri": "https://localhost:8080/",
          "height": 35
        },
        "id": "kzUYhBWXptY2",
        "outputId": "5f49391a-4bc1-4d97-e69f-bef69f9d8c49"
      },
      "source": [
        "context = \"\".join([\"~\"] * (2))\r\n",
        "context"
      ],
      "execution_count": null,
      "outputs": [
        {
          "output_type": "execute_result",
          "data": {
            "application/vnd.google.colaboratory.intrinsic+json": {
              "type": "string"
            },
            "text/plain": [
              "'~~'"
            ]
          },
          "metadata": {
            "tags": []
          },
          "execution_count": 195
        }
      ]
    },
    {
      "cell_type": "code",
      "metadata": {
        "id": "WaXxTS4t1C03",
        "colab": {
          "base_uri": "https://localhost:8080/",
          "height": 35
        },
        "outputId": "bdab50a8-0987-4b37-894d-e74d8cc47791"
      },
      "source": [
        "n.random_text(22)"
      ],
      "execution_count": null,
      "outputs": [
        {
          "output_type": "execute_result",
          "data": {
            "application/vnd.google.colaboratory.intrinsic+json": {
              "type": "string"
            },
            "text/plain": [
              "'Hello be you toon ant '"
            ]
          },
          "metadata": {
            "tags": []
          },
          "execution_count": 239
        }
      ]
    },
    {
      "cell_type": "markdown",
      "metadata": {
        "id": "Wsyqq5GTx4no"
      },
      "source": [
        "### kapat burayi"
      ]
    },
    {
      "cell_type": "code",
      "metadata": {
        "id": "f0tqm0T4LlbQ"
      },
      "source": [
        "class NgramModel():\n",
        "\n",
        "    def __init__(self, n, k):\n",
        "        self.n = n\n",
        "        self.k = k\n",
        "        self.context_dic = {}\n",
        "        self.context_count_dic = {}\n",
        "        return\n",
        "\n",
        "    def get_vocab(self):\n",
        "      return self.context_count_dic.keys()\n",
        "\n",
        "    def update(self, sentence):\n",
        "        for context, token in ngrams(self.n, sentence):\n",
        "            # keep count\n",
        "            if context in self.context_count_dic:\n",
        "                self.context_count_dic[context] += 1\n",
        "            else:\n",
        "                self.context_count_dic[context] = 1\n",
        "\n",
        "            # insert data\n",
        "            if context in self.context_dic:\n",
        "                token_dic = self.context_dic.get(context)\n",
        "                if token in token_dic:\n",
        "                    token_dic[token] += 1\n",
        "                else:\n",
        "                    token_dic[token] = 1\n",
        "            else:\n",
        "                self.context_dic[context] = {token: 1}\n",
        "        return\n",
        "\n",
        "\n",
        "    def prob(self, context, token):\n",
        "        if context in self.context_dic:\n",
        "            token_dic = self.context_dic[context]\n",
        "            if token in token_dic:\n",
        "                return float(token_dic[token]) / self.context_count_dic[context]\n",
        "            else:\n",
        "                return 0.0\n",
        "        else:\n",
        "            return 0.0\n",
        "\n",
        "\n",
        "    def random_token(self, context):\n",
        "        r = random.random()\n",
        "\n",
        "        if context in self.context_dic:\n",
        "            denominator = self.context_count_dic[context]\n",
        "            token_dic = self.context_dic[context]\n",
        "            sorted_keys = sorted(token_dic.keys())\n",
        "\n",
        "            for i, token in enumerate(sorted_keys):\n",
        "                minus_i_sum = sum([token_dic[k] for k in sorted_keys[:i]])\n",
        "                if float(minus_i_sum)/denominator <= r < float(minus_i_sum + token_dic[sorted_keys[i]])/denominator:\n",
        "                    return token\n",
        "\n",
        "        else:\n",
        "            return None\n",
        "\n",
        "    def random_text(self, token_count):\n",
        "\n",
        "        if self.n != 1:\n",
        "            context = \"\".join([\"~\"] * (self.n))\n",
        "            generated = []\n",
        "\n",
        "            for __ in range(token_count):\n",
        "                token = self.random_token(context)\n",
        "                generated.append(token)\n",
        "\n",
        "                if token != \".\":\n",
        "                    context = context[1:] + (token)\n",
        "                else:\n",
        "                    context = \"\".join([\"~\"] * (self.n))\n",
        "\n",
        "            return \"\".join(generated)\n",
        "        else:\n",
        "            return \"\".join(self.random_token(random.choice(list(self.get_vocab()))) for _ in range(token_count)) \n",
        "\n",
        "    def perplexity(self, sentence):\n",
        "        product = 0\n",
        "\n",
        "        for context, token in ngrams(self.n, sentence):\n",
        "          if self.prob(context,token) != 0:\n",
        "            product += math.log(self.prob(context, token))\n",
        "        return (1/math.exp(product)) ** (float(1)/(len(sentence)+1))\n"
      ],
      "execution_count": null,
      "outputs": []
    },
    {
      "cell_type": "code",
      "metadata": {
        "id": "IrAdKwTtLtNb"
      },
      "source": [
        "def create_ngram_model(n, path):\n",
        "    model = NgramModel(n)\n",
        "\n",
        "    with open(path, 'r+') as f:\n",
        "        for line in f:\n",
        "            model.update(line)\n",
        "\n",
        "    return model"
      ],
      "execution_count": null,
      "outputs": []
    },
    {
      "cell_type": "code",
      "metadata": {
        "id": "75ZrNWyVZTnN"
      },
      "source": [
        "mdl = create_ngram_model(NgramModel,\"Baskaldiran-Insan-Albert-Camus.txt\",5,0)"
      ],
      "execution_count": null,
      "outputs": []
    },
    {
      "cell_type": "code",
      "metadata": {
        "id": "4WjaQg8BbPju"
      },
      "source": [
        "def create_ngram_model(model_class, path, n=2, k=0):\r\n",
        "    ''' Creates and returns a new n-gram model trained on the city names\r\n",
        "        found in the path file '''\r\n",
        "    model = model_class(n, k)\r\n",
        "    with open(path, encoding='utf-8', errors='ignore') as f:\r\n",
        "        model.update(f.read())\r\n",
        "    return model"
      ],
      "execution_count": null,
      "outputs": []
    },
    {
      "cell_type": "code",
      "metadata": {
        "id": "VOXkz67cAL2y"
      },
      "source": [
        "import numpy as np\r\n",
        "test = np.array([1,2,3])  "
      ],
      "execution_count": null,
      "outputs": []
    },
    {
      "cell_type": "code",
      "metadata": {
        "colab": {
          "base_uri": "https://localhost:8080/"
        },
        "id": "h_LO55AcYncf",
        "outputId": "8bbe07b0-6a55-4b24-c79b-adb21f4ce8c0"
      },
      "source": [
        "test.shape"
      ],
      "execution_count": null,
      "outputs": [
        {
          "output_type": "execute_result",
          "data": {
            "text/plain": [
              "(3,)"
            ]
          },
          "metadata": {
            "tags": []
          },
          "execution_count": 318
        }
      ]
    },
    {
      "cell_type": "code",
      "metadata": {
        "id": "9GdnoUl1YvbF"
      },
      "source": [
        ""
      ],
      "execution_count": null,
      "outputs": []
    }
  ]
}